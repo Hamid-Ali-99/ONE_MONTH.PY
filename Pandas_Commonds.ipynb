{
 "cells": [
  {
   "cell_type": "markdown",
   "id": "9d064a74",
   "metadata": {},
   "source": [
    "# import pandas"
   ]
  },
  {
   "cell_type": "code",
   "execution_count": null,
   "id": "ed396fac",
   "metadata": {},
   "outputs": [],
   "source": [
    "import pandas as pd"
   ]
  },
  {
   "cell_type": "markdown",
   "id": "c2579985",
   "metadata": {},
   "source": [
    "# import Data"
   ]
  },
  {
   "cell_type": "code",
   "execution_count": null,
   "id": "16ed5d2f",
   "metadata": {},
   "outputs": [],
   "source": [
    "names=[\"id\",\"Title\",\"Year\",\"rating\",\"votes\",\"length\",\"genres\"]\n",
    "data=pd.read_csv('imdb_top_10000.txt',sep=\"\\t\",names=names,index_col=0)"
   ]
  },
  {
   "cell_type": "markdown",
   "id": "ee398147",
   "metadata": {},
   "source": [
    "# Exploring Data "
   ]
  },
  {
   "cell_type": "code",
   "execution_count": null,
   "id": "8c0ce344",
   "metadata": {},
   "outputs": [],
   "source": [
    "data\n",
    "# this will print all data."
   ]
  },
  {
   "cell_type": "code",
   "execution_count": null,
   "id": "1c5ffb90",
   "metadata": {},
   "outputs": [],
   "source": [
    "data.head()\n",
    "# This will print the first five by defaul."
   ]
  },
  {
   "cell_type": "code",
   "execution_count": null,
   "id": "88cbae59",
   "metadata": {},
   "outputs": [],
   "source": [
    "data.head(2)\n",
    "# here we just print the first two elements."
   ]
  },
  {
   "cell_type": "code",
   "execution_count": null,
   "id": "74577730",
   "metadata": {},
   "outputs": [],
   "source": [
    "data.tail()\n",
    "# this will print the last five by default."
   ]
  },
  {
   "cell_type": "code",
   "execution_count": null,
   "id": "86a2cb97",
   "metadata": {},
   "outputs": [],
   "source": [
    "data.info()\n",
    "# this will provide us the information about your code."
   ]
  },
  {
   "cell_type": "markdown",
   "id": "0f08495f",
   "metadata": {},
   "source": [
    "# Exporting Data\n",
    "1. using commond(data.to_csv(\"test.csv\",header=True,index=True,sep=\",\"))"
   ]
  },
  {
   "cell_type": "code",
   "execution_count": null,
   "id": "9390083c",
   "metadata": {},
   "outputs": [],
   "source": [
    "data.to_csv(\"test.csv\",header=True,index=True,sep=\",\")"
   ]
  },
  {
   "cell_type": "markdown",
   "id": "a6a15def",
   "metadata": {},
   "source": [
    "# Sorting Data with Pandas\n",
    "1. data.sort_values(by='rating', ascending=False)"
   ]
  },
  {
   "cell_type": "code",
   "execution_count": null,
   "id": "f2784265",
   "metadata": {},
   "outputs": [],
   "source": [
    "# here we sort the data from lower to high. lower values show first then high by rating.\n",
    "data.sort_values(by='rating')"
   ]
  },
  {
   "cell_type": "code",
   "execution_count": null,
   "id": "c88a0bd5",
   "metadata": {},
   "outputs": [],
   "source": [
    "# Here we sort the data from high to lower by rating.\n",
    "data.sort_values(by='rating', ascending=False)"
   ]
  },
  {
   "cell_type": "markdown",
   "id": "3c973e2d",
   "metadata": {},
   "source": [
    "# Every DataFrame A Painting.\n",
    "1. Create a dictionary"
   ]
  },
  {
   "cell_type": "code",
   "execution_count": 2,
   "id": "7b4ecbb4",
   "metadata": {},
   "outputs": [],
   "source": [
    "sample_data = {\n",
    "   'tv': [230.1, 44.5, 17.2],\n",
    "   'radio': [37.8, 39.3, 45.9],\n",
    "   'news': [69.2, 45.1, 69.3],\n",
    "   'sales': [22.1, 10.4, 9.3]\n",
    "}"
   ]
  },
  {
   "cell_type": "markdown",
   "id": "3b24f134",
   "metadata": {},
   "source": [
    "# Pass in sample_data"
   ]
  },
  {
   "cell_type": "code",
   "execution_count": null,
   "id": "8601f1f5",
   "metadata": {},
   "outputs": [],
   "source": [
    "data2 = pd.DataFrame(sample_data)"
   ]
  },
  {
   "cell_type": "markdown",
   "id": "4beee43f",
   "metadata": {},
   "source": [
    "# Display the new data "
   ]
  },
  {
   "cell_type": "code",
   "execution_count": null,
   "id": "e85ac2a8",
   "metadata": {},
   "outputs": [],
   "source": [
    "data2"
   ]
  },
  {
   "cell_type": "markdown",
   "id": "a95f3b8f",
   "metadata": {},
   "source": [
    "# If you want to delete the data2 frame? "
   ]
  },
  {
   "cell_type": "code",
   "execution_count": null,
   "id": "d0a3657c",
   "metadata": {},
   "outputs": [],
   "source": [
    "del data2\n",
    "print(data2)"
   ]
  },
  {
   "cell_type": "code",
   "execution_count": null,
   "id": "6d4a620b",
   "metadata": {},
   "outputs": [],
   "source": []
  },
  {
   "cell_type": "code",
   "execution_count": null,
   "id": "cdfadf00",
   "metadata": {},
   "outputs": [],
   "source": []
  },
  {
   "cell_type": "code",
   "execution_count": null,
   "id": "b6669c79",
   "metadata": {},
   "outputs": [],
   "source": []
  }
 ],
 "metadata": {
  "kernelspec": {
   "display_name": "Python 3 (ipykernel)",
   "language": "python",
   "name": "python3"
  },
  "language_info": {
   "codemirror_mode": {
    "name": "ipython",
    "version": 3
   },
   "file_extension": ".py",
   "mimetype": "text/x-python",
   "name": "python",
   "nbconvert_exporter": "python",
   "pygments_lexer": "ipython3",
   "version": "3.8.10"
  }
 },
 "nbformat": 4,
 "nbformat_minor": 5
}
