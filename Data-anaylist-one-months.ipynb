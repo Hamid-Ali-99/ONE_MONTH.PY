{
 "cells": [
  {
   "cell_type": "markdown",
   "id": "f9b11ac8",
   "metadata": {},
   "source": [
    "## import pandas\n"
   ]
  },
  {
   "cell_type": "code",
   "execution_count": null,
   "id": "85cb12de",
   "metadata": {},
   "outputs": [],
   "source": [
    "import pandas as pd"
   ]
  },
  {
   "cell_type": "markdown",
   "id": "0a978d81",
   "metadata": {},
   "source": [
    "## import Data"
   ]
  },
  {
   "cell_type": "code",
   "execution_count": null,
   "id": "aaf54f86",
   "metadata": {},
   "outputs": [],
   "source": [
    "names=[\"id\",\"Title\",\"Year\",\"rating\",\"votes\",\"length\",\"genres\"]\n",
    "data=pd.read_csv('imdb_top_10000.txt',sep=\"\\t\",names=names,index_col=0)"
   ]
  },
  {
   "cell_type": "markdown",
   "id": "1fb198be",
   "metadata": {},
   "source": [
    "# Expolaring our Data"
   ]
  },
  {
   "cell_type": "code",
   "execution_count": null,
   "id": "17927249",
   "metadata": {},
   "outputs": [],
   "source": [
    "data\n",
    "# this will print all data."
   ]
  },
  {
   "cell_type": "code",
   "execution_count": null,
   "id": "d300789d",
   "metadata": {},
   "outputs": [],
   "source": [
    "data.head()\n",
    "# This will print the first five by defaul."
   ]
  },
  {
   "cell_type": "code",
   "execution_count": null,
   "id": "926363e5",
   "metadata": {},
   "outputs": [],
   "source": [
    "data.head(2)\n",
    "# here we just print the first two elements."
   ]
  },
  {
   "cell_type": "code",
   "execution_count": null,
   "id": "19cb8418",
   "metadata": {},
   "outputs": [],
   "source": [
    "data.tail()\n",
    "# this will print the last five by default."
   ]
  },
  {
   "cell_type": "code",
   "execution_count": null,
   "id": "ae6ebaf2",
   "metadata": {},
   "outputs": [],
   "source": [
    "data.info()\n",
    "# this will provide us the information about your code."
   ]
  },
  {
   "cell_type": "code",
   "execution_count": null,
   "id": "ce2dc8ce",
   "metadata": {},
   "outputs": [],
   "source": [
    "data.describe()"
   ]
  },
  {
   "cell_type": "markdown",
   "id": "b2077b4e",
   "metadata": {},
   "source": [
    "# Exporting Data\n",
    "1. using commond(data.to_csv(\"test.csv\",header=True,index=True,sep=\",\"))"
   ]
  },
  {
   "cell_type": "code",
   "execution_count": null,
   "id": "9cbd2ccc",
   "metadata": {},
   "outputs": [],
   "source": [
    "data.to_csv(\"test.csv\",header=True,index=True,sep=\",\")"
   ]
  },
  {
   "cell_type": "markdown",
   "id": "388cd7cd",
   "metadata": {},
   "source": [
    "# Sorting Data with Pandas\n",
    "1. data.sort_values(by='rating', ascending=False)"
   ]
  },
  {
   "cell_type": "code",
   "execution_count": null,
   "id": "12d8baf9",
   "metadata": {},
   "outputs": [],
   "source": [
    "# here we sort the data from lower to high. lower values show first then high by rating.\n",
    "data.sort_values(by='rating')"
   ]
  },
  {
   "cell_type": "code",
   "execution_count": null,
   "id": "cc896539",
   "metadata": {},
   "outputs": [],
   "source": [
    "# Here we sort the data from high to lower by rating.\n",
    "data.sort_values(by='rating', ascending=False)"
   ]
  },
  {
   "cell_type": "markdown",
   "id": "6e3c6305",
   "metadata": {},
   "source": [
    "# Every DataFrame A Painting.\n",
    "1. Create a dictionary"
   ]
  },
  {
   "cell_type": "code",
   "execution_count": null,
   "id": "2885e06e",
   "metadata": {},
   "outputs": [],
   "source": [
    "sample_data = {\n",
    "   'tv': [230.1, 44.5, 17.2],\n",
    "   'radio': [37.8, 39.3, 45.9],\n",
    "   'news': [69.2, 45.1, 69.3],\n",
    "   'sales': [22.1, 10.4, 9.3]\n",
    "}"
   ]
  },
  {
   "cell_type": "markdown",
   "id": "d6c0823f",
   "metadata": {},
   "source": [
    "# Pass in sample_data"
   ]
  },
  {
   "cell_type": "code",
   "execution_count": null,
   "id": "1b845043",
   "metadata": {},
   "outputs": [],
   "source": [
    "data2 = pd.DataFrame(sample_data)"
   ]
  },
  {
   "cell_type": "markdown",
   "id": "d645b546",
   "metadata": {},
   "source": [
    "# Display the new data "
   ]
  },
  {
   "cell_type": "code",
   "execution_count": null,
   "id": "42233069",
   "metadata": {},
   "outputs": [],
   "source": [
    "data2"
   ]
  },
  {
   "cell_type": "markdown",
   "id": "030124a2",
   "metadata": {},
   "source": [
    "# If you want to delete the data2 frame? "
   ]
  },
  {
   "cell_type": "code",
   "execution_count": null,
   "id": "526e4d90",
   "metadata": {},
   "outputs": [],
   "source": [
    "del data2\n",
    "print(data2)"
   ]
  },
  {
   "cell_type": "code",
   "execution_count": null,
   "id": "1326f1aa",
   "metadata": {},
   "outputs": [],
   "source": []
  },
  {
   "cell_type": "code",
   "execution_count": null,
   "id": "80b6b3f9",
   "metadata": {},
   "outputs": [],
   "source": []
  },
  {
   "cell_type": "code",
   "execution_count": null,
   "id": "5c6af9ce",
   "metadata": {},
   "outputs": [],
   "source": []
  },
  {
   "cell_type": "code",
   "execution_count": null,
   "id": "3dd5f281",
   "metadata": {},
   "outputs": [],
   "source": []
  },
  {
   "cell_type": "code",
   "execution_count": null,
   "id": "27c94439",
   "metadata": {},
   "outputs": [],
   "source": []
  },
  {
   "cell_type": "code",
   "execution_count": null,
   "id": "fa42542b",
   "metadata": {},
   "outputs": [],
   "source": []
  },
  {
   "cell_type": "code",
   "execution_count": null,
   "id": "371396dc",
   "metadata": {},
   "outputs": [],
   "source": []
  },
  {
   "cell_type": "code",
   "execution_count": null,
   "id": "b4dc13ea",
   "metadata": {},
   "outputs": [],
   "source": []
  }
 ],
 "metadata": {
  "kernelspec": {
   "display_name": "Python 3 (ipykernel)",
   "language": "python",
   "name": "python3"
  },
  "language_info": {
   "codemirror_mode": {
    "name": "ipython",
    "version": 3
   },
   "file_extension": ".py",
   "mimetype": "text/x-python",
   "name": "python",
   "nbconvert_exporter": "python",
   "pygments_lexer": "ipython3",
   "version": "3.8.10"
  }
 },
 "nbformat": 4,
 "nbformat_minor": 5
}
